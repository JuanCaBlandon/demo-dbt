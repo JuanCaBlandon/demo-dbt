{
 "cells": [
  {
   "cell_type": "code",
   "execution_count": null,
   "metadata": {},
   "outputs": [],
   "source": [
    "import os\n",
    "import re\n",
    "from datetime import datetime\n",
    "from ftplib import FTP_TLS\n",
    "import json\n",
    "\n",
    "# Configuration\n",
    "env = dbutils.widgets.get(\"environment\")\n",
    "execution_date = dbutils.widgets.get(\"execution_date_main\")\n",
    "execution_date_dt = datetime.strptime(execution_date, \"%Y-%m-%d\")\n",
    "\n",
    "\n",
    "# Get secrets\n",
    "host = dbutils.secrets.get(scope=\"state_reporting\", key=f\"iowa_ftp_host_{env}\")\n",
    "username = dbutils.secrets.get(scope=\"state_reporting\", key=f\"iowa_ftp_user_{env}\")\n",
    "password = dbutils.secrets.get(scope=\"state_reporting\", key=f\"iowa_ftp_password_{env}\")\n",
    "\n",
    "max_query = \"\"\"\n",
    "    SELECT MAX(createdAt) AS max_createdAt\n",
    "    FROM state_reporting_prd.bronze.state_batch_customer_data_ia\n",
    "\"\"\"\n",
    "\n",
    "max_proccessed_bf = spark.sql(max_query)\n",
    "reference_date = max_proccessed_bf.collect()[0][\"max_createdAt\"]  # Extract value\n",
    "\n",
    "try:\n",
    "    with FTP_TLS(host) as ftp:\n",
    "        ftp.login(username, password)\n",
    "        ftp.prot_p()\n",
    "        available_files = ftp.nlst()  # Get file list from FTP\n",
    "\n",
    "        if available_files:\n",
    "            valid_files = [file for file in available_files if file.startswith(\"Intoxalock_\") and file.endswith(\".zip\")]\n",
    "\n",
    "            # Clean filenames and filter, converting to YYYY-MM-DD format\n",
    "            files_to_process = [\n",
    "                datetime.strptime(re.sub(r\"Intoxalock_|\\.zip\", \"\", file), \"%Y%m%d\").strftime(\"%Y-%m-%d\")\n",
    "                for file in valid_files\n",
    "                if reference_date < (file_date := datetime.strptime(re.sub(r\"Intoxalock_|\\.zip\", \"\", file), \"%Y%m%d\")) <= execution_date_dt\n",
    "            ]\n",
    "            dbutils.jobs.taskValues.set(key=\"files_to_process\", value=json.dumps(files_to_process))\n",
    "            print(files_to_process)  # Output JSON-like list of dictionaries\n",
    "\n",
    "except Exception as e:\n",
    "    print(f\"FTP connection failed: {e}\")"
   ]
  }
 ],
 "metadata": {
  "language_info": {
   "name": "python"
  }
 },
 "nbformat": 4,
 "nbformat_minor": 2
}
