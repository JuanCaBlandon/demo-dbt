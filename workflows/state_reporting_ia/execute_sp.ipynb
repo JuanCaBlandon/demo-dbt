{
 "cells": [
  {
   "cell_type": "code",
   "execution_count": 0,
   "metadata": {
    "application/vnd.databricks.v1+cell": {
     "cellMetadata": {
      "byteLimit": 2048000,
      "rowLimit": 10000
     },
     "inputWidgets": {},
     "nuid": "975fe38a-92ee-4d2a-9c7f-0fcf00355a3b",
     "showTitle": false,
     "tableResultSettingsMap": {},
     "title": ""
    }
   },
   "outputs": [
    {
     "data": {
      "text/plain": [
       "\u001b[31mcom.databricks.backend.daemon.driver.scalakernel.SparkException: No input widget named sp_name is defined\u001b[39m\n",
       "  com.databricks.backend.daemon.driver.scalakernel.extensions.CommUtils$.executeRequest(\u001b[32mCommUtils.scala\u001b[39m:\u001b[32m56\u001b[39m)\n",
       "  com.databricks.backend.daemon.driver.scalakernel.extensions.Widgets.get(\u001b[32mWidgets.scala\u001b[39m:\u001b[32m96\u001b[39m)\n",
       "  ammonite.$sess.cmd4$Helper.<init>(\u001b[32mcmd4.sc\u001b[39m:\u001b[32m7\u001b[39m)\n",
       "  ammonite.$sess.cmd4$.<init>(\u001b[32mcmd4.sc\u001b[39m:\u001b[32m7\u001b[39m)\n",
       "  ammonite.$sess.cmd4$.<clinit>(\u001b[32mcmd4.sc\u001b[39m:\u001b[32m-1\u001b[39m)"
      ]
     },
     "metadata": {
      "application/vnd.databricks.v1+output": {
       "arguments": {},
       "data": "\u001b[31mcom.databricks.backend.daemon.driver.scalakernel.SparkException: No input widget named sp_name is defined\u001b[39m\n  com.databricks.backend.daemon.driver.scalakernel.extensions.CommUtils$.executeRequest(\u001b[32mCommUtils.scala\u001b[39m:\u001b[32m56\u001b[39m)\n  com.databricks.backend.daemon.driver.scalakernel.extensions.Widgets.get(\u001b[32mWidgets.scala\u001b[39m:\u001b[32m96\u001b[39m)\n  ammonite.$sess.cmd4$Helper.<init>(\u001b[32mcmd4.sc\u001b[39m:\u001b[32m7\u001b[39m)\n  ammonite.$sess.cmd4$.<init>(\u001b[32mcmd4.sc\u001b[39m:\u001b[32m7\u001b[39m)\n  ammonite.$sess.cmd4$.<clinit>(\u001b[32mcmd4.sc\u001b[39m:\u001b[32m-1\u001b[39m)",
       "errorSummary": "com.databricks.backend.daemon.driver.scalakernel.SparkException: No input widget named sp_name is defined",
       "errorTraceType": "ansi",
       "metadata": {},
       "type": "ipynbError"
      }
     },
     "output_type": "display_data"
    }
   ],
   "source": [
    "%scala\n",
    "import org.apache.spark.sql.types._\n",
    "import java.sql.DriverManager\n",
    "import scala.util.{Failure, Success, Try}\n",
    "\n",
    "// Get params from Workflow\n",
    "val sp_name = dbutils.widgets.get(\"sp_name\")\n",
    "val env = dbutils.widgets.get(\"environment\")\n",
    "val start_date = dbutils.widgets.get(\"start_date\")\n",
    "val end_date = dbutils.widgets.get(\"end_date\")\n",
    "val additional_query_info = s\"@START_DATE = '$start_date', @END_DATE = '$end_date'\"\n",
    "\n",
    "\n",
    "// Connection parameters\n",
    "val username = dbutils.secrets.get(scope = \"state_reporting\", key = s\"sql_server_user_$env\")\n",
    "val password = dbutils.secrets.get(scope = \"state_reporting\", key = s\"sql_server_pass_$env\")\n",
    "val host = dbutils.secrets.get(scope = \"state_reporting\", key = s\"sql_server_host_$env\")\n",
    "\n",
    "val database = \"statereporting\"\n",
    "val instaname = s\"$env\"\n",
    "\n",
    "val sqlsUrl = s\"jdbc:sqlserver://$host\\\\$instaname;databaseName=$database;encrypt=false\"\n",
    "val query = s\"EXEC StateReporting.databricks.$sp_name $additional_query_info\"\n",
    "\n",
    "\n",
    "Try {\n",
    "  // SQL query\n",
    "  \n",
    "  // Connection\n",
    "  val connection = DriverManager.getConnection(sqlsUrl, username, password)\n",
    "  try {\n",
    "    val statement = connection.prepareCall(query)\n",
    "    val resultSet = statement.executeQuery()\n",
    "    while (resultSet.next()) {\n",
    "      println(resultSet.getString(1)) // Example of reading results\n",
    "    }\n",
    "  } finally {\n",
    "    // Ensure resources are closed\n",
    "    connection.close()\n",
    "  }\n",
    "} match {\n",
    "  case Success(_) => println(\"Stored Procedure executed successfully.\")\n",
    "  case Failure(exception) =>\n",
    "    println(s\"Error executing Stored Procedure: ${exception.getMessage}\")\n",
    "    throw new RuntimeException(\"Task failed due to an error while executing the stored procedure.\", exception)\n",
    "}"
   ]
  }
 ],
 "metadata": {
  "application/vnd.databricks.v1+notebook": {
   "computePreferences": null,
   "dashboards": [],
   "environmentMetadata": {
    "base_environment": "",
    "client": "2"
   },
   "language": "python",
   "notebookMetadata": {
    "pythonIndentUnit": 4
   },
   "notebookName": "EXEC SP",
   "widgets": {}
  },
  "language_info": {
   "name": "python"
  }
 },
 "nbformat": 4,
 "nbformat_minor": 0
}
